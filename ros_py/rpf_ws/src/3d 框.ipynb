{
 "cells": [
  {
   "cell_type": "code",
   "execution_count": 5,
   "id": "3e0854fb",
   "metadata": {},
   "outputs": [
    {
     "ename": "ModuleNotFoundError",
     "evalue": "No module named 'data_utils'",
     "output_type": "error",
     "traceback": [
      "\u001b[0;31m---------------------------------------------------------------------------\u001b[0m",
      "\u001b[0;31mModuleNotFoundError\u001b[0m                       Traceback (most recent call last)",
      "\u001b[0;32m<ipython-input-5-b281bc7797d4>\u001b[0m in \u001b[0;36m<module>\u001b[0;34m\u001b[0m\n\u001b[1;32m      6\u001b[0m \u001b[0;32mimport\u001b[0m \u001b[0mos\u001b[0m\u001b[0;34m\u001b[0m\u001b[0;34m\u001b[0m\u001b[0m\n\u001b[1;32m      7\u001b[0m \u001b[0msys\u001b[0m\u001b[0;34m.\u001b[0m\u001b[0mpath\u001b[0m\u001b[0;34m.\u001b[0m\u001b[0mappend\u001b[0m\u001b[0;34m(\u001b[0m\u001b[0;34m'../src/'\u001b[0m\u001b[0;34m)\u001b[0m\u001b[0;34m\u001b[0m\u001b[0;34m\u001b[0m\u001b[0m\n\u001b[0;32m----> 8\u001b[0;31m \u001b[0;32mfrom\u001b[0m \u001b[0mdata_utils\u001b[0m \u001b[0;32mimport\u001b[0m \u001b[0;34m*\u001b[0m\u001b[0;34m\u001b[0m\u001b[0;34m\u001b[0m\u001b[0m\n\u001b[0m",
      "\u001b[0;31mModuleNotFoundError\u001b[0m: No module named 'data_utils'"
     ]
    }
   ],
   "source": [
    "import pandas as pd\n",
    "import matplotlib.pyplot as plt\n",
    "from mpl_toolkits.mplot3d import Axes3D\n",
    "import numpy as np\n",
    "import sys\n",
    "import os\n",
    "sys.path.append('../src/')\n",
    "from data_utils import *"
   ]
  },
  {
   "cell_type": "code",
   "execution_count": null,
   "id": "7049be31",
   "metadata": {},
   "outputs": [],
   "source": [
    "def draw_point_cloud(ax,points,axes=[0,1,2],point_size=0.1,xlim3d=None,ylim3d=None,zlim3d=None)\n",
    "    axes_limits = [\n",
    "        [-20,80],\n",
    "        [-20,20],\n",
    "        [-3,3]\n",
    "    ]\n",
    "    axes_str = ['X','Y','Z']\n",
    "    ax.grid(False)\n",
    "    \n",
    "    ax.scatter(*np.transpose(points[:,axes]),s=point_size,c=point[:,3],cmap='gray')\n",
    "    ax.set_xlabel('{}axis'.format(axes_str[axes[0]]))\n",
    "    ax.set_xlabel('{}axis'.format(axes_str[axes[1]]))\n",
    "    if len(axes) >2:\n",
    "        ax.set_xlim3d(*axes_limits[axes[0]])\n",
    "        ax.set_ylim3d(*axes_limits[axes[1]])\n",
    "        ax.set_zlim3d(*axes_limits[axes[2]])\n",
    "        ax.xaxis.set_pane_color((1.0,1.0,1.0,0.0))\n",
    "        ax.yaxis.set_pane_color((1.0,1.0,1.0,0.0))\n",
    "        ax.zaxis.set_pane_color((1.0,1.0,1.0,0.0))\n",
    "        ax.set_zlabel('{}axis'.format(axes_str[axes[2]]))\n",
    "    else:\n",
    "        ax.set_xlim(*axes_limits[axes[0]])\n",
    "        ax.set_ylim(*axes_limits[axes[1]])\n",
    "    if xlim3d!=None:\n",
    "        ax.set_xlim3d(xlim3d)\n",
    "    if ylim3d!=None:\n",
    "        ax.set_ylim3d(ylim3d)\n",
    "    if zlim3d!=None:\n",
    "        ax.set_zlim3d(zlim3d)\n",
    "\n",
    "    for t_rects, t_type in zip(tracklet_rects[frame], tracklet_types[frame]):\n",
    "        draw_box(ax, t_rects, axes=axes, color=colors[t_type])\n",
    "            \n"
   ]
  },
  {
   "cell_type": "code",
   "execution_count": null,
   "id": "fc1139fb",
   "metadata": {},
   "outputs": [],
   "source": [
    "DATA_PATH = '/home/rpf/data/kitti/RawData/2011_09_26/2011_09_26_drive_0005_sync/'\n",
    "\n",
    "points = read_point_cloud(os.path.join(DATA_PATH,'velodyne_points/data/%010d.bin'%0))\n"
   ]
  },
  {
   "cell_type": "code",
   "execution_count": null,
   "id": "1e2c0cb1",
   "metadata": {},
   "outputs": [],
   "source": [
    "fig = plt.figure(figsize=(20,10))\n",
    "ax = fig.add_subplot(111,projection='3d')\n",
    "ax.view_init(40,150)\n",
    "draw_point_cloud(ax.points[::5])"
   ]
  },
  {
   "cell_type": "code",
   "execution_count": null,
   "id": "7575f087",
   "metadata": {},
   "outputs": [],
   "source": [
    "def draw_box(pyplot_axis, vertices, axes=[0, 1, 2], color='black'):\n",
    "    \"\"\"\n",
    "    Draws a bounding 3D box in a pyplot axis.\n",
    "    \n",
    "    Parameters\n",
    "    ----------\n",
    "    pyplot_axis : Pyplot axis to draw in.\n",
    "    vertices    : Array 8 box vertices containing x, y, z coordinates.\n",
    "    axes        : Axes to use. Defaults to `[0, 1, 2]`, e.g. x, y and z axes.\n",
    "    color       : Drawing color. Defaults to `black`.\n",
    "    \"\"\"\n",
    "    vertices = vertices[axes, :]\n",
    "    connections = [\n",
    "        [0, 1], [1, 2], [2, 3], [3, 0],  # Lower plane parallel to Z=0 plane\n",
    "        [4, 5], [5, 6], [6, 7], [7, 4],  # Upper plane parallel to Z=0 plane\n",
    "        [0, 4], [1, 5], [2, 6], [3, 7]  # Connections between upper and lower planes\n",
    "    ]\n",
    "    for connection in connections:\n",
    "        pyplot_axis.plot(*vertices[:, connection], c=color, lw=0.5)"
   ]
  }
 ],
 "metadata": {
  "kernelspec": {
   "display_name": "Python 3",
   "language": "python",
   "name": "python3"
  },
  "language_info": {
   "codemirror_mode": {
    "name": "ipython",
    "version": 3
   },
   "file_extension": ".py",
   "mimetype": "text/x-python",
   "name": "python",
   "nbconvert_exporter": "python",
   "pygments_lexer": "ipython3",
   "version": "3.6.9"
  }
 },
 "nbformat": 4,
 "nbformat_minor": 5
}
