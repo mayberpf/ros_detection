{
 "cells": [
  {
   "cell_type": "code",
   "execution_count": null,
   "id": "2867e853",
   "metadata": {},
   "outputs": [],
   "source": [
    "import pandas as pd\n",
    "import matplotlib.pyplot as plt\n",
    "from mpl_toolkits.mplot3d import Axes3D\n",
    "import numpy as np\n",
    "import sys\n",
    "import os\n",
    "sys.path.append('../src/')\n",
    "from data_utils import *"
   ]
  },
  {
   "cell_type": "code",
   "execution_count": null,
   "id": "487f83b5",
   "metadata": {},
   "outputs": [],
   "source": [
    "def draw_point_cloud(ax,points,axes=[0,1,2],point_size=0.1,xlim3d=None,ylim3d=None,zlim3d=None)\n",
    "    axes_limits = [\n",
    "        [-20,80],\n",
    "        [-20,20],\n",
    "        [-3,3]\n",
    "    ]\n",
    "    axes_str = ['X','Y','Z']\n",
    "    ax.grid(False)\n",
    "    \n",
    "    ax.scatter(*np.transpose(points[:,axes]),s=point_size,c=point[:,3],cmap='gray')\n",
    "    ax.set_xlabel('{}axis'.format(axes_str[axes[0]]))\n",
    "    ax.set_xlabel('{}axis'.format(axes_str[axes[1]]))\n",
    "    if len(axes) >2:\n",
    "        ax.set_xlim3d(*axes_limits[axes[0]])\n",
    "        ax.set_ylim3d(*axes_limits[axes[1]])\n",
    "        ax.set_zlim3d(*axes_limits[axes[2]])\n",
    "        ax.xaxis.set_pane_color((1.0,1.0,1.0,0.0))\n",
    "        ax.yaxis.set_pane_color((1.0,1.0,1.0,0.0))\n",
    "        ax.zaxis.set_pane_color((1.0,1.0,1.0,0.0))\n",
    "        ax.set_zlabel('{}axis'.format(axes_str[axes[2]]))\n",
    "    else:\n",
    "        ax.set_xlim(*axes_limits[axes[0]])\n",
    "        ax.set_ylim(*axes_limits[axes[1]])\n",
    "    if xlim3d!=None:\n",
    "        ax.set_xlim3d(xlim3d)\n",
    "    if ylim3d!=None:\n",
    "        ax.set_ylim3d(ylim3d)\n",
    "    if zlim3d!=None:\n",
    "        ax.set_zlim3d(zlim3d)\n",
    "\n",
    "    for t_rects, t_type in zip(tracklet_rects[frame], tracklet_types[frame]):\n",
    "        draw_box(ax, t_rects, axes=axes, color=colors[t_type])\n",
    "            \n"
   ]
  },
  {
   "cell_type": "code",
   "execution_count": null,
   "id": "c5e152b7",
   "metadata": {},
   "outputs": [],
   "source": [
    "DATA_PATH = '/home/rpf/data/kitti/RawData/2011_09_26/2011_09_26_drive_0005_sync/'\n",
    "\n",
    "points = read_point_cloud(os.path.join(DATA_PATH,'velodyne_points/data/%010d.bin'%0))\n"
   ]
  },
  {
   "cell_type": "code",
   "execution_count": null,
   "id": "edaed531",
   "metadata": {},
   "outputs": [],
   "source": [
    "fig = plt.figure(figsize=(20,10))\n",
    "ax = fig.add_su"
   ]
  },
  {
   "cell_type": "code",
   "execution_count": null,
   "id": "ae76ec4c",
   "metadata": {},
   "outputs": [],
   "source": [
    "def draw_box(pyplot_axis, vertices, axes=[0, 1, 2], color='black'):\n",
    "    \"\"\"\n",
    "    Draws a bounding 3D box in a pyplot axis.\n",
    "    \n",
    "    Parameters\n",
    "    ----------\n",
    "    pyplot_axis : Pyplot axis to draw in.\n",
    "    vertices    : Array 8 box vertices containing x, y, z coordinates.\n",
    "    axes        : Axes to use. Defaults to `[0, 1, 2]`, e.g. x, y and z axes.\n",
    "    color       : Drawing color. Defaults to `black`.\n",
    "    \"\"\"\n",
    "    vertices = vertices[axes, :]\n",
    "    connections = [\n",
    "        [0, 1], [1, 2], [2, 3], [3, 0],  # Lower plane parallel to Z=0 plane\n",
    "        [4, 5], [5, 6], [6, 7], [7, 4],  # Upper plane parallel to Z=0 plane\n",
    "        [0, 4], [1, 5], [2, 6], [3, 7]  # Connections between upper and lower planes\n",
    "    ]\n",
    "    for connection in connections:\n",
    "        pyplot_axis.plot(*vertices[:, connection], c=color, lw=0.5)"
   ]
  }
 ],
 "metadata": {
  "kernelspec": {
   "display_name": "Python 3",
   "language": "python",
   "name": "python3"
  },
  "language_info": {
   "codemirror_mode": {
    "name": "ipython",
    "version": 3
   },
   "file_extension": ".py",
   "mimetype": "text/x-python",
   "name": "python",
   "nbconvert_exporter": "python",
   "pygments_lexer": "ipython3",
   "version": "3.6.9"
  }
 },
 "nbformat": 4,
 "nbformat_minor": 5
}
